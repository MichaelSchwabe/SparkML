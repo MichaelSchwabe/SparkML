{
 "cells": [
  {
   "cell_type": "markdown",
   "id": "87bdf578-8c32-4e67-b46a-75fa8067cb26",
   "metadata": {},
   "source": [
    "* http://spark.apache.org/downloads.html\n",
    "* https://pypi.org/project/spark-nlp/\n",
    "* https://towardsdatascience.com/installing-apache-pyspark-on-windows-10-f5f0c506bea1#:~:text=Installing%20Apache%20PySpark%20on%20Windows%2010%201%20Step,INFO%2C%20ERROR%20and%20WARN.%20...%20Weitere%20Artikel...%20"
   ]
  },
  {
   "cell_type": "code",
   "execution_count": null,
   "id": "a5b99598-7ebd-46f4-979e-7fc129af1d6b",
   "metadata": {},
   "outputs": [],
   "source": [
    "# Import Spark NLP\n",
    "from sparknlp.base import *\n",
    "from sparknlp.annotator import *\n",
    "from sparknlp.pretrained import PretrainedPipeline\n",
    "import sparknlp\n",
    "\n"
   ]
  },
  {
   "cell_type": "code",
   "execution_count": null,
   "id": "cc2fdf37-1239-4535-9a58-cee0b64c29b1",
   "metadata": {},
   "outputs": [],
   "source": [
    "# Start SparkSession with Spark NLP\n",
    "# start() functions has 4 parameters: gpu, spark23, spark24, and memory\n",
    "# sparknlp.start(gpu=True) will start the session with GPU support\n",
    "# sparknlp.start(spark23=True) is when you have Apache Spark 2.3.x installed\n",
    "# sparknlp.start(spark24=True) is when you have Apache Spark 2.4.x installed\n",
    "# sparknlp.start(memory=\"16G\") to change the default driver memory in SparkSession\n",
    "spark = sparknlp.start(spark23=False,spark24=False)"
   ]
  },
  {
   "cell_type": "code",
   "execution_count": null,
   "id": "5bdbc54f-f9a8-4b70-9768-13c0bec75111",
   "metadata": {},
   "outputs": [],
   "source": [
    "# Download a pre-trained pipeline\n",
    "pipeline = PretrainedPipeline('explain_document_dl', lang='en')\n",
    "\n",
    "# Your testing dataset\n",
    "text = \"\"\"\n",
    "The Mona Lisa is a 16th century oil painting created by Leonardo.\n",
    "It's held at the Louvre in Paris.\n",
    "\"\"\"\n",
    "\n",
    "# Annotate your testing dataset\n",
    "result = pipeline.annotate(text)\n",
    "\n",
    "# What's in the pipeline\n",
    "list(result.keys())\n",
    "\n"
   ]
  },
  {
   "cell_type": "code",
   "execution_count": null,
   "id": "eac903ce-283d-459b-9839-5a24f073ebd9",
   "metadata": {},
   "outputs": [],
   "source": [
    "# Check the results\n",
    "result['entities']\n"
   ]
  }
 ],
 "metadata": {
  "kernelspec": {
   "display_name": "Python 3",
   "language": "python",
   "name": "python3"
  },
  "language_info": {
   "codemirror_mode": {
    "name": "ipython",
    "version": 3
   },
   "file_extension": ".py",
   "mimetype": "text/x-python",
   "name": "python",
   "nbconvert_exporter": "python",
   "pygments_lexer": "ipython3",
   "version": "3.8.10"
  }
 },
 "nbformat": 4,
 "nbformat_minor": 5
}
